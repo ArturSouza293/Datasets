{
  "nbformat": 4,
  "nbformat_minor": 0,
  "metadata": {
    "colab": {
      "name": "Medidas de Complexidade",
      "version": "0.3.2",
      "provenance": [],
      "include_colab_link": true
    },
    "kernelspec": {
      "name": "python3",
      "display_name": "Python 3"
    }
  },
  "cells": [
    {
      "cell_type": "markdown",
      "metadata": {
        "id": "view-in-github",
        "colab_type": "text"
      },
      "source": [
        "<a href=\"https://colab.research.google.com/github/ArturSouza293/Datasets/blob/master/Medidas_de_Complexidade.ipynb\" target=\"_parent\"><img src=\"https://colab.research.google.com/assets/colab-badge.svg\" alt=\"Open In Colab\"/></a>"
      ]
    },
    {
      "cell_type": "markdown",
      "metadata": {
        "id": "pkR6dgxon6O5",
        "colab_type": "text"
      },
      "source": [
        "\n",
        "# Medidas de Complexidade LORENA ET AL"
      ]
    },
    {
      "cell_type": "markdown",
      "metadata": {
        "id": "QMrXpRdcohWN",
        "colab_type": "text"
      },
      "source": [
        "##Primeiro Grupo de Funções\n",
        "\n",
        "##Serão as funções auxilires "
      ]
    },
    {
      "cell_type": "markdown",
      "metadata": {
        "id": "9MW5a4hmo5DA",
        "colab_type": "text"
      },
      "source": [
        "01 - Normalização\n",
        "\n",
        "        Vai normalizar as colunas do conjuntos de dados (dentro [0,1])"
      ]
    },
    {
      "cell_type": "code",
      "metadata": {
        "id": "gClFJ3Uro10y",
        "colab_type": "code",
        "colab": {}
      },
      "source": [
        "Normalize = function(dataset) {\n",
        "    dataset = as.matrix(dataset)\n",
        "    numberColumn = ncol(dataset)\n",
        "\n",
        "    for (column in 1:numberColumn)\n",
        "        dataset[,column] = (dataset[,column] - min(dataset[,column])) /\n",
        "                           (max(dataset[,column]) - min(dataset[,column]))\n",
        "\n",
        "    dataset\n",
        "}"
      ],
      "execution_count": 0,
      "outputs": []
    },
    {
      "cell_type": "markdown",
      "metadata": {
        "id": "DNy3_KYGpLeN",
        "colab_type": "text"
      },
      "source": [
        "02 - Formata o Conjunto de Dados\n",
        "      \n",
        "       Formatar o conjunto de dados de entrada "
      ]
    },
    {
      "cell_type": "code",
      "metadata": {
        "id": "jyAWSLRQp4hb",
        "colab_type": "code",
        "colab": {}
      },
      "source": [
        "FormatDataset = function(dataset, output){\n",
        "    \n",
        "    dataset = as.matrix(dataset)\n",
        "    numberColumn = ncol(dataset)\n",
        "  \n",
        "    if(!is.null(output)){\n",
        "        input = dataset\n",
        "    } else {\n",
        "        input  = as.matrix(dataset[,-numberColumn])\n",
        "        output = as.matrix(dataset[,numberColumn])\n",
        "        numberColumn = ncol(input)\n",
        "    }\n",
        "\n",
        "    list(input = Normalize(input), output = Normalize(output), \n",
        "        numberColumn = numberColumn, numberRows = nrow(input))\n",
        "}"
      ],
      "execution_count": 0,
      "outputs": []
    },
    {
      "cell_type": "markdown",
      "metadata": {
        "id": "L-s-YZU0qFKG",
        "colab_type": "text"
      },
      "source": [
        "03 - Posição Max\n",
        "  \n",
        "        Indice do elemento maior"
      ]
    },
    {
      "cell_type": "code",
      "metadata": {
        "id": "wxntCyvtqZgU",
        "colab_type": "code",
        "colab": {}
      },
      "source": [
        "MaxPosition = function(array) order(-array)[1]"
      ],
      "execution_count": 0,
      "outputs": []
    },
    {
      "cell_type": "markdown",
      "metadata": {
        "id": "RLjEtVwuqbqk",
        "colab_type": "text"
      },
      "source": [
        "04 - Posição Min\n",
        "  \n",
        "        inidice do elemento menor"
      ]
    },
    {
      "cell_type": "code",
      "metadata": {
        "id": "xcphkG_BqnQQ",
        "colab_type": "code",
        "colab": {}
      },
      "source": [
        "MinPosition = function(array) order(array)[1]"
      ],
      "execution_count": 0,
      "outputs": []
    },
    {
      "cell_type": "markdown",
      "metadata": {
        "id": "KVXgOdbtqn-Z",
        "colab_type": "text"
      },
      "source": [
        "05 - Correlacao de Spearman\n",
        "\n",
        "        Computa a Correlação de Spearman entre a diferenca de dois ranks (que não tenham \"conexao\")"
      ]
    },
    {
      "cell_type": "code",
      "metadata": {
        "id": "sdKtaCa9rHHL",
        "colab_type": "code",
        "colab": {}
      },
      "source": [
        "spearman_from_rank = function(rank){\n",
        "  size=length(rank)\n",
        "  results=1-6*sum(rank^2)/(size^3-size)\n",
        "  results\n",
        "}"
      ],
      "execution_count": 0,
      "outputs": []
    },
    {
      "cell_type": "markdown",
      "metadata": {
        "id": "FtMDqpHprMj7",
        "colab_type": "text"
      },
      "source": [
        "06 - Remocao de exemplos de numeros (??)\n",
        "  \n",
        "        Remove exemplos do conjuto ate que uma correlacao especifica ao output seja atingida "
      ]
    },
    {
      "cell_type": "code",
      "metadata": {
        "id": "9u1NaIgXromw",
        "colab_type": "code",
        "colab": {}
      },
      "source": [
        "ExamplesRemovedNumber = function(x,y,minCorrelation)\n",
        "{\n",
        "  \n",
        "  numberRows = length(x)\n",
        "  if(numberRows == length(y))\n",
        "  {\n",
        "    remainingRows = numberRows\n",
        "    maxPosition = 0\n",
        "    xorder=rank(x)\n",
        "    yorder=rank(y)\n",
        "    diff=xorder-yorder\n",
        "    \n",
        "    correlation = spearman_from_rank(diff)\n",
        "    \n",
        "    if(correlation < 0){\n",
        "      yorder=rank(-y)\n",
        "      diff=xorder-yorder\n",
        "      correlation = spearman_from_rank(diff)\n",
        "    }\n",
        "    \n",
        "    while(abs(correlation) < minCorrelation && !is.na(correlation))\n",
        "    {\n",
        "      \n",
        "      maxPosition = which.max(abs(diff))\n",
        "      \n",
        "      diff=diff +\n",
        "        ((yorder>yorder[maxPosition]) -\n",
        "           (xorder>xorder[maxPosition]))\n",
        "      \n",
        "      yorder=yorder[-maxPosition]\n",
        "      xorder=xorder[-maxPosition] \n",
        "      diff=diff[-maxPosition]\n",
        "      remainingRows = remainingRows - 1\n",
        "      correlation = spearman_from_rank(diff)\n",
        "      \n",
        "      if(is.na(correlation))\n",
        "        correlation\n",
        "    }\n",
        "    \n",
        "    (numberRows-remainingRows)/numberRows\n",
        "  } else NA\n",
        "}"
      ],
      "execution_count": 0,
      "outputs": []
    },
    {
      "cell_type": "markdown",
      "metadata": {
        "id": "eXLvQMxIrtmY",
        "colab_type": "text"
      },
      "source": [
        "## Segundo Grupo de Funcoes \n",
        "\n",
        "## Medidas de Complexidade \n",
        "\n",
        "### A explicação de cada medida está no Artigo Completo "
      ]
    },
    {
      "cell_type": "markdown",
      "metadata": {
        "id": "aN3-iVCDoRu0",
        "colab_type": "text"
      },
      "source": [
        "07 - C1 - Maximum Feature Correlation\n",
        "\n",
        "                \n",
        "\n",
        "\n"
      ]
    },
    {
      "cell_type": "code",
      "metadata": {
        "id": "zHwNNQs6oDsY",
        "colab_type": "code",
        "colab": {}
      },
      "source": [
        "C1 = function(dataset, output = NULL) {   \n",
        "  \n",
        "  formatedDataset = FormatDataset(dataset, output)\n",
        "  input = formatedDataset$input\n",
        "  output = formatedDataset$output\n",
        "  numberColumn = formatedDataset$numberColumn\n",
        "  \n",
        "  correlations = array(0,numberColumn)\n",
        "  \n",
        "  for (column in 1:numberColumn){\n",
        "    correlation = cor(output, input[,column], method = \"spearman\")\n",
        "    \n",
        "    if(!is.na(correlation))\n",
        "      correlations[column] = abs(correlation)\n",
        "  }\n",
        "  \n",
        "  max(correlations)\n",
        "}"
      ],
      "execution_count": 0,
      "outputs": []
    },
    {
      "cell_type": "markdown",
      "metadata": {
        "id": "Oj60nvKloT-p",
        "colab_type": "text"
      },
      "source": [
        "08 - C2 - Average Feature Correlation to the Output\n",
        "  "
      ]
    },
    {
      "cell_type": "code",
      "metadata": {
        "id": "PGmLbQDnoWL0",
        "colab_type": "code",
        "colab": {}
      },
      "source": [
        "C2 = function(dataset, output = NULL)\n",
        "{   \n",
        "    formatedDataset = FormatDataset(dataset, output)\n",
        "    input = formatedDataset$input\n",
        "    output = formatedDataset$output\n",
        "    numberColumn = formatedDataset$numberColumn\n",
        "\n",
        "    correlations = array(0,numberColumn)\n",
        "    \n",
        "    for (column in 1:numberColumn)\n",
        "        correlations[column] = abs(cor(output, input[,column], \n",
        "            method = \"spearman\"))\n",
        "\n",
        "    naRemove = !is.na(correlations)\n",
        "\n",
        "    mean(correlations[naRemove])\n",
        "}"
      ],
      "execution_count": 0,
      "outputs": []
    },
    {
      "cell_type": "markdown",
      "metadata": {
        "id": "2ijVAbmNsZ19",
        "colab_type": "text"
      },
      "source": [
        "09 - C3 - Individual Feature Efficiency"
      ]
    },
    {
      "cell_type": "code",
      "metadata": {
        "id": "tUrCitxmseYZ",
        "colab_type": "code",
        "colab": {}
      },
      "source": [
        "C3 = function(dataset, output = NULL, minCorrelation = 0.9)\n",
        "{\n",
        "    formatedDataset = FormatDataset(dataset, output)\n",
        "    input = formatedDataset$input\n",
        "    output = formatedDataset$output\n",
        "    numberColumn = formatedDataset$numberColumn\n",
        "\n",
        "    correlations = array(1,numberColumn)\n",
        "    \n",
        "    for (column in 1:numberColumn)\n",
        "        correlations[column] = ExamplesRemovedNumber(output, input[,column], minCorrelation)\n",
        "    \n",
        "    naRemove = !is.na(correlations)\n",
        "    \n",
        "    min(correlations[naRemove])\n",
        "}"
      ],
      "execution_count": 0,
      "outputs": []
    },
    {
      "cell_type": "markdown",
      "metadata": {
        "id": "0EdD7EcBshnr",
        "colab_type": "text"
      },
      "source": [
        "10 - C4 - Collective Feature Efficiency"
      ]
    },
    {
      "cell_type": "code",
      "metadata": {
        "id": "vnJUq_n7skYO",
        "colab_type": "code",
        "colab": {}
      },
      "source": [
        "C4 = function(dataset, output = NULL, minResidual = 0.1){\n",
        "    \n",
        "    formatedDataset = FormatDataset(dataset, output)\n",
        "    input = formatedDataset$input\n",
        "    output = formatedDataset$output\n",
        "    numberColumn = formatedDataset$numberColumn\n",
        "    numberRows = formatedDataset$numberRows\n",
        "\n",
        "    stop = FALSE\n",
        "    looked = 0\n",
        "    \n",
        "    while(!stop){\n",
        "        \n",
        "        correlations = cor(output,input,\n",
        "                             method=\"spearman\")\n",
        "        indexMostCorrelated = MaxPosition(abs(correlations))\n",
        "        if(!is.na(indexMostCorrelated)){\n",
        "            \n",
        "            looked = looked + 1\n",
        "            linearModel = lm(output~input[,indexMostCorrelated])\n",
        "            indexRemove = abs(linearModel$residuals) > minResidual\n",
        "            input = input[indexRemove,]\n",
        "            output = output[indexRemove]\n",
        "            if(sum(!indexRemove) == length(indexRemove) | length(output)==1 |  looked == numberColumn)\n",
        "                stop = TRUE\n",
        "        }\n",
        "    }\n",
        "    if(length(output) == 1)\n",
        "       0\n",
        "    else\n",
        "       length(output)/numberRows\n",
        "}"
      ],
      "execution_count": 0,
      "outputs": []
    },
    {
      "cell_type": "markdown",
      "metadata": {
        "id": "U9Sz2NBxsrzq",
        "colab_type": "text"
      },
      "source": [
        "11 - L1 - Distance of the Data Itens to the Linear Function"
      ]
    },
    {
      "cell_type": "code",
      "metadata": {
        "id": "w8K1RpGVst5H",
        "colab_type": "code",
        "colab": {}
      },
      "source": [
        "L1 = function(dataset, output = NULL){\n",
        "    \n",
        "    formatedDataset = FormatDataset(dataset, output)\n",
        "    input = formatedDataset$input\n",
        "    output = formatedDataset$output\n",
        "    naRemove = !is.na(cor(output, input, method = \"spearman\"))\n",
        "    numberColumns = formatedDataset$numberColumn\n",
        "    if(numberColumns > 1)\n",
        "        linearModel = lm(output~input[,naRemove])\n",
        "    else \n",
        "        linearModel = lm(output~input[])\n",
        "    mean(abs(linearModel$residuals))\n",
        "}"
      ],
      "execution_count": 0,
      "outputs": []
    },
    {
      "cell_type": "markdown",
      "metadata": {
        "id": "JASC0u2Ws1ri",
        "colab_type": "text"
      },
      "source": [
        "12 - L2 - Average Error of Linear Regressor"
      ]
    },
    {
      "cell_type": "code",
      "metadata": {
        "id": "iozI9ET2s1DI",
        "colab_type": "code",
        "colab": {}
      },
      "source": [
        "L2 = function(dataset, output = NULL){\n",
        "    \n",
        "    formatedDataset = FormatDataset(dataset, output)\n",
        "    input = formatedDataset$input\n",
        "    output = formatedDataset$output\n",
        "\n",
        "    naRemove = !is.na(cor(output, input, method = \"spearman\"))\n",
        "\n",
        "    numberColumns = formatedDataset$numberColumn\n",
        "    if(numberColumns > 1)\n",
        "      linearModel = lm(output~input[,naRemove])\n",
        "    else \n",
        "      linearModel = lm(output~input[])\n",
        "        \n",
        "    mean(linearModel$residuals^2)\n",
        "}"
      ],
      "execution_count": 0,
      "outputs": []
    },
    {
      "cell_type": "markdown",
      "metadata": {
        "id": "CKLUQJals645",
        "colab_type": "text"
      },
      "source": [
        "13 - S1 - Output Distribution "
      ]
    },
    {
      "cell_type": "code",
      "metadata": {
        "id": "8sgKickps6Rv",
        "colab_type": "code",
        "colab": {}
      },
      "source": [
        "S1 = function(dataset, output = NULL){\n",
        "    \n",
        "    formatedDataset = FormatDataset(dataset, output)\n",
        "    input = formatedDataset$input\n",
        "    output = formatedDataset$output\n",
        "    numberRows = formatedDataset$numberRows\n",
        "    \n",
        "    fullGraph = graph.full(numberRows, directed = FALSE, loops = FALSE)\n",
        "    E(fullGraph)$weight= dist(input, method = \"euclidian\")\n",
        "    mst = minimum.spanning.tree(fullGraph, algorithm = \"prim\")\n",
        "    edgelist = get.edgelist(mst);\n",
        "    mean(abs(output[edgelist[,1]] - output[edgelist[,2]]))\n",
        "}\n"
      ],
      "execution_count": 0,
      "outputs": []
    },
    {
      "cell_type": "markdown",
      "metadata": {
        "id": "Erjc9qiPtApT",
        "colab_type": "text"
      },
      "source": [
        "14 - S2 - Input Distribution"
      ]
    },
    {
      "cell_type": "code",
      "metadata": {
        "id": "30kcXgPQtDtc",
        "colab_type": "code",
        "colab": {}
      },
      "source": [
        "S2  = function(dataset, output = NULL){\n",
        "    \n",
        "    getDistances = function(dataset, numberRows, numberColumns){\n",
        "\n",
        "        distances = array(0,numberRows-1)\n",
        "        for(line in 2:numberRows){\n",
        "            if(numberColumns > 1)\n",
        "               distances[line-1] = dist(dataset[(line-1):line,])\n",
        "            else\n",
        "               distances[line-1] = dist(dataset[(line-1):line])\n",
        "          } \n",
        "        distances\n",
        "    }\n",
        "\n",
        "    formatedDataset = FormatDataset(dataset, output)\n",
        "    input = formatedDataset$input\n",
        "    output = formatedDataset$output\n",
        "    numberRows = formatedDataset$numberRows\n",
        "    numberColumns = formatedDataset$numberColumn\n",
        "   \n",
        "    order = order(output)\n",
        "    if(numberColumns > 1)\n",
        "        distances = getDistances(input[order,], numberRows,numberColumns)\n",
        "    else\n",
        "        distances = getDistances(input[order], numberRows,numberColumns)\n",
        "    \n",
        "    mean(distances)\n",
        "}"
      ],
      "execution_count": 0,
      "outputs": []
    },
    {
      "cell_type": "markdown",
      "metadata": {
        "id": "o0U12uwxtN5h",
        "colab_type": "text"
      },
      "source": [
        "15 - S3 - Error of a Nearest Neighbor regressor "
      ]
    },
    {
      "cell_type": "code",
      "metadata": {
        "id": "1VG9N-8stNd9",
        "colab_type": "code",
        "colab": {}
      },
      "source": [
        "S3  = function(dataset, output = NULL){\n",
        "\n",
        "    formatedDataset = FormatDataset(dataset, output)\n",
        "    input = formatedDataset$input\n",
        "    output = formatedDataset$output\n",
        "    numberRows = formatedDataset$numberRows\n",
        "    predictions = matrix(0,numberRows)\n",
        "    distances = as.matrix(dist(input, method = \"euclidian\",diag=TRUE,upper=TRUE))\n",
        "\n",
        "    diag(distances) <- Inf\n",
        "    for(line in 1:numberRows){\n",
        "        predictions[line] = output[MinPosition(distances[line,,drop=FALSE])]\n",
        "    }\n",
        "    mean((predictions-output)^2)\n",
        "}"
      ],
      "execution_count": 0,
      "outputs": []
    },
    {
      "cell_type": "markdown",
      "metadata": {
        "id": "Owuw4mb8tR43",
        "colab_type": "text"
      },
      "source": [
        "16 - L3 - Non-linearity of a Linear regressor"
      ]
    },
    {
      "cell_type": "code",
      "metadata": {
        "id": "fy3wOPe0tU3J",
        "colab_type": "code",
        "colab": {}
      },
      "source": [
        "L3 = function(dataset, output = NULL){\n",
        "\n",
        "    formatedDataset = FormatDataset(dataset, output)\n",
        "    input = formatedDataset$input\n",
        "    output = formatedDataset$output\n",
        "    numberRows = formatedDataset$numberRows\n",
        "    naRemove = !is.na(cor(output, input, method = \"spearman\"))\n",
        "    numberColumn = sum(naRemove)\n",
        "\n",
        "    order = order(output)\n",
        "      \n",
        "    output = output[order] \n",
        "    numberColumns = formatedDataset$numberColumn\n",
        "    randomUniform = runif(numberRows - 1)\n",
        "    \n",
        "    if(numberColumns > 1){\n",
        "      input = input[order,]  \n",
        "      linearModel = lm(output~input[,naRemove])\n",
        "      newInput = randomUniform*input[2:numberRows-1,naRemove] + \n",
        "        (1-randomUniform)*input[2:numberRows,naRemove]\n",
        "      \n",
        "    }\n",
        "    else{\n",
        "      input = input[order]\n",
        "      linearModel = lm(output~input[])\n",
        "      newInput = randomUniform*input[2:numberRows-1] + \n",
        "        (1-randomUniform)*input[2:numberRows]\n",
        "      \n",
        "    }\n",
        "    newOutput = randomUniform*output[2:numberRows-1] + \n",
        "               (1-randomUniform)*output[2:numberRows]\n",
        "    newPredict = predict.lm(linearModel,newdata = as.data.frame(input<-newInput))\n",
        "    \n",
        "    mean((newPredict - newOutput)^2)\n",
        "}"
      ],
      "execution_count": 0,
      "outputs": []
    },
    {
      "cell_type": "markdown",
      "metadata": {
        "id": "aEQPOmIItXfn",
        "colab_type": "text"
      },
      "source": [
        "17 - S4 - Non-linearity of Nearest Neighbor regressor"
      ]
    },
    {
      "cell_type": "code",
      "metadata": {
        "id": "Vo5Qmzqwtc69",
        "colab_type": "code",
        "colab": {}
      },
      "source": [
        "S4 = function(dataset, output = NULL){\n",
        "\n",
        "    formatedDataset = FormatDataset(dataset, output)\n",
        "    input = formatedDataset$input\n",
        "    output = formatedDataset$output\n",
        "    numberRows = formatedDataset$numberRows\n",
        "    naRemove = !is.na(cor(output, input, method = \"spearman\"))\n",
        "    numberColumn = sum(naRemove)\n",
        "\n",
        "    order = order(output)\n",
        "    output = output[order,] \n",
        "    numberColumns = formatedDataset$numberColumn\n",
        "    randomUniform = runif(numberRows - 1)\n",
        "    \n",
        "    if(numberColumns > 1){\n",
        "      input = input[order,]  \n",
        "      newInput = randomUniform*input[2:numberRows-1,] + \n",
        "        (1-randomUniform)*input[2:numberRows,]\n",
        "      \n",
        "          }\n",
        "    else{\n",
        "      input = input[order]\n",
        "      newInput = randomUniform*input[2:numberRows-1] + \n",
        "        (1-randomUniform)*input[2:numberRows]\n",
        "      \n",
        "      }\n",
        "    newOutput = randomUniform*output[2:numberRows-1] + \n",
        "               (1-randomUniform)*output[2:numberRows]\n",
        "    newPredict = knn.reg(as.data.frame(input), as.data.frame(newInput), output, k = 1)$pred\n",
        "    mean((newPredict - newOutput)^2)\n",
        "}"
      ],
      "execution_count": 0,
      "outputs": []
    },
    {
      "cell_type": "markdown",
      "metadata": {
        "id": "UO6vkMUSte76",
        "colab_type": "text"
      },
      "source": [
        "18 - T2 Average Number of Examples per dimension"
      ]
    },
    {
      "cell_type": "code",
      "metadata": {
        "id": "Q_C0-Pb4thvo",
        "colab_type": "code",
        "colab": {}
      },
      "source": [
        "T2 = function(dataset, output = NULL){\n",
        "    formatedDataset = FormatDataset(dataset, output)\n",
        "    (formatedDataset$numberRows / formatedDataset$numberColumn)\n",
        "}"
      ],
      "execution_count": 0,
      "outputs": []
    },
    {
      "cell_type": "markdown",
      "metadata": {
        "id": "RbDiMQqLtiUw",
        "colab_type": "text"
      },
      "source": [
        "LINK DO GIT : https://github.com/aclorena/ComplexityRegression/blob/master/measures.r"
      ]
    }
  ]
}